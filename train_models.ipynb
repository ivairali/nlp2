{
 "cells": [
  {
   "cell_type": "markdown",
   "id": "703ef4c7-b999-417a-b387-47033e5fa456",
   "metadata": {},
   "source": [
    "# Content and requrements of this notebook"
   ]
  },
  {
   "cell_type": "markdown",
   "id": "416dcf8c-c95f-4c5b-bfa5-25462e8d2bef",
   "metadata": {},
   "source": [
    "train models.ipynb is a notebook containing all the code required to train the models\n",
    "and store them in fitted models"
   ]
  },
  {
   "cell_type": "markdown",
   "id": "2e7a5b23-0f36-4b3d-ad74-eb2321668bda",
   "metadata": {},
   "source": [
    "TODO:\n",
    "\n",
    "-The structured perceptron explained during the course. You can think about adding\n",
    "or modifiying feature templates to improve results.\n",
    "\n",
    "-At least one deep learning model.\n",
    "\n",
    "-Extra exercise\n",
    "This extra exercise can increment your mark on this deliverable giving you up to 1 extra\n",
    "point.\n",
    "Improve the provided code for the structured perceptron. In particular:\n",
    "• Find where it spends more time during training and inference.\n",
    "• Improve the code to make it faster.\n",
    "• Benchmark the improvement.\n",
    "• Explain your improvements in the pdf file.\n",
    "Hint: We have seen how cython can be used to dramatically improve the speed of python.\n",
    "You can benefit from cython to do this"
   ]
  },
  {
   "cell_type": "code",
   "execution_count": 26,
   "id": "d16b178e-2b99-484a-b0d6-256e517aec27",
   "metadata": {},
   "outputs": [
    {
     "name": "stdout",
     "output_type": "stream",
     "text": [
      "(839149, 3)\n",
      "(837339, 3)\n",
      "Number of sentences for train: 38366\n",
      "Number of sentences for test: 38367\n",
      "so overall the sentences for test are less but longer...\n",
      "    sentence_id          words   tags\n",
      "0             0      Thousands      O\n",
      "1             0             of      O\n",
      "2             0  demonstrators      O\n",
      "3             0           have      O\n",
      "4             0        marched      O\n",
      "5             0        through      O\n",
      "6             0         London  B-geo\n",
      "7             0             to      O\n",
      "8             0        protest      O\n",
      "9             0            the      O\n",
      "10            0            war      O\n",
      "11            0             in      O\n",
      "12            0           Iraq  B-geo\n",
      "13            0            and      O\n",
      "14            0         demand      O\n",
      "15            0            the      O\n",
      "16            0     withdrawal      O\n",
      "17            0             of      O\n",
      "18            0        British  B-gpe\n",
      "19            0         troops      O\n",
      "20            0           from      O\n",
      "21            0           that      O\n",
      "22            0        country      O\n",
      "23            0              .      O\n",
      "Unique tags:\n",
      "tags\n",
      "O        710391\n",
      "B-geo     30113\n",
      "B-tim     16317\n",
      "B-org     16127\n",
      "I-per     13845\n",
      "B-per     13568\n",
      "I-org     13526\n",
      "B-gpe     12739\n",
      "I-geo      5898\n",
      "I-tim      5258\n",
      "B-art       314\n",
      "B-eve       244\n",
      "I-art       242\n",
      "I-eve       205\n",
      "I-gpe       161\n",
      "B-nat       157\n",
      "I-nat        44\n",
      "Name: count, dtype: int64\n"
     ]
    }
   ],
   "source": [
    "import pandas as pd\n",
    "\n",
    "train_df = pd.read_csv('data/train_data_ner.csv')\n",
    "test_df = pd.read_csv('data/test_data_ner.csv')\n",
    "print(train_df.shape)\n",
    "print(test_df.shape)\n",
    "\n",
    "print(f\"Number of sentences for train: {train_df['sentence_id'].nunique()}\")\n",
    "print(f\"Number of sentences for test: {test_df['sentence_id'].nunique()}\")\n",
    "print(\"so overall the sentences for test are less but longer...\")\n",
    "\n",
    "\n",
    "print(train_df.head(24))\n",
    "# print(\"\\nPrint second test sentance:\")\n",
    "# print(test_df[test_df['sentence_id']==1])\n",
    "\n",
    "#print(\"\\nPrint the 4th sentence for example:\")\n",
    "#print(train_df[train_df['sentence_id']==4])\n",
    "\n",
    "print(f\"Unique tags:\\n{train_df['tags'].value_counts()}\")\n",
    "\n"
   ]
  },
  {
   "cell_type": "markdown",
   "id": "b23274d1-6a46-4b6c-b32d-70c6796a096a",
   "metadata": {},
   "source": [
    "# Part Alana Zoloeva"
   ]
  },
  {
   "cell_type": "code",
   "execution_count": null,
   "id": "a75016f9-fecd-4655-9fac-c9167735624f",
   "metadata": {},
   "outputs": [],
   "source": []
  },
  {
   "cell_type": "markdown",
   "id": "d6c57696-b29f-4d6d-87bd-bd7fd67f0081",
   "metadata": {},
   "source": [
    "# Part Ralitsa Dimitrova"
   ]
  },
  {
   "cell_type": "code",
   "execution_count": null,
   "id": "bf620047-6833-4f36-9251-0b8786742f6d",
   "metadata": {},
   "outputs": [],
   "source": []
  }
 ],
 "metadata": {
  "kernelspec": {
   "display_name": "Python 3 (ipykernel)",
   "language": "python",
   "name": "python3"
  },
  "language_info": {
   "codemirror_mode": {
    "name": "ipython",
    "version": 3
   },
   "file_extension": ".py",
   "mimetype": "text/x-python",
   "name": "python",
   "nbconvert_exporter": "python",
   "pygments_lexer": "ipython3",
   "version": "3.12.9"
  }
 },
 "nbformat": 4,
 "nbformat_minor": 5
}
