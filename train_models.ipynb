{
 "cells": [
  {
   "cell_type": "markdown",
   "id": "703ef4c7-b999-417a-b387-47033e5fa456",
   "metadata": {},
   "source": [
    "# Content and requrements of this notebook"
   ]
  },
  {
   "cell_type": "markdown",
   "id": "416dcf8c-c95f-4c5b-bfa5-25462e8d2bef",
   "metadata": {},
   "source": [
    "train models.ipynb is a notebook containing all the code required to train the models\n",
    "and store them in fitted models"
   ]
  },
  {
   "cell_type": "markdown",
   "id": "2e7a5b23-0f36-4b3d-ad74-eb2321668bda",
   "metadata": {},
   "source": [
    "TODO:\n",
    "\n",
    "-The structured perceptron explained during the course. You can think about adding\n",
    "or modifiying feature templates to improve results.\n",
    "\n",
    "-At least one deep learning model.\n",
    "\n",
    "-Extra exercise\n",
    "This extra exercise can increment your mark on this deliverable giving you up to 1 extra\n",
    "point.\n",
    "Improve the provided code for the structured perceptron. In particular:\n",
    "• Find where it spends more time during training and inference.\n",
    "• Improve the code to make it faster.\n",
    "• Benchmark the improvement.\n",
    "• Explain your improvements in the pdf file.\n",
    "Hint: We have seen how cython can be used to dramatically improve the speed of python.\n",
    "You can benefit from cython to do this"
   ]
  },
  {
   "cell_type": "code",
   "execution_count": 26,
   "id": "d16b178e-2b99-484a-b0d6-256e517aec27",
   "metadata": {},
   "outputs": [
    {
     "name": "stdout",
     "output_type": "stream",
     "text": [
      "(839149, 3)\n",
      "(837339, 3)\n",
      "Number of sentences for train: 38366\n",
      "Number of sentences for test: 38367\n",
      "so overall the sentences for test are less but longer...\n",
      "    sentence_id          words   tags\n",
      "0             0      Thousands      O\n",
      "1             0             of      O\n",
      "2             0  demonstrators      O\n",
      "3             0           have      O\n",
      "4             0        marched      O\n",
      "5             0        through      O\n",
      "6             0         London  B-geo\n",
      "7             0             to      O\n",
      "8             0        protest      O\n",
      "9             0            the      O\n",
      "10            0            war      O\n",
      "11            0             in      O\n",
      "12            0           Iraq  B-geo\n",
      "13            0            and      O\n",
      "14            0         demand      O\n",
      "15            0            the      O\n",
      "16            0     withdrawal      O\n",
      "17            0             of      O\n",
      "18            0        British  B-gpe\n",
      "19            0         troops      O\n",
      "20            0           from      O\n",
      "21            0           that      O\n",
      "22            0        country      O\n",
      "23            0              .      O\n",
      "Unique tags:\n",
      "tags\n",
      "O        710391\n",
      "B-geo     30113\n",
      "B-tim     16317\n",
      "B-org     16127\n",
      "I-per     13845\n",
      "B-per     13568\n",
      "I-org     13526\n",
      "B-gpe     12739\n",
      "I-geo      5898\n",
      "I-tim      5258\n",
      "B-art       314\n",
      "B-eve       244\n",
      "I-art       242\n",
      "I-eve       205\n",
      "I-gpe       161\n",
      "B-nat       157\n",
      "I-nat        44\n",
      "Name: count, dtype: int64\n"
     ]
    }
   ],
   "source": [
    "import pandas as pd\n",
    "\n",
    "train_df = pd.read_csv('data/train_data_ner.csv')\n",
    "test_df = pd.read_csv('data/test_data_ner.csv')\n",
    "print(train_df.shape)\n",
    "print(test_df.shape)\n",
    "\n",
    "print(f\"Number of sentences for train: {train_df['sentence_id'].nunique()}\")\n",
    "print(f\"Number of sentences for test: {test_df['sentence_id'].nunique()}\")\n",
    "print(\"so overall the sentences for test are less but longer...\")\n",
    "\n",
    "\n",
    "print(train_df.head(24))\n",
    "# print(\"\\nPrint second test sentance:\")\n",
    "# print(test_df[test_df['sentence_id']==1])\n",
    "\n",
    "#print(\"\\nPrint the 4th sentence for example:\")\n",
    "#print(train_df[train_df['sentence_id']==4])\n",
    "\n",
    "print(f\"Unique tags:\\n{train_df['tags'].value_counts()}\")\n",
    "\n"
   ]
  },
  {
   "cell_type": "markdown",
   "id": "b23274d1-6a46-4b6c-b32d-70c6796a096a",
   "metadata": {},
   "source": [
    "# Part Alana Zoloeva"
   ]
  },
  {
   "cell_type": "code",
   "execution_count": null,
   "id": "a75016f9-fecd-4655-9fac-c9167735624f",
   "metadata": {},
   "outputs": [],
   "source": []
  },
  {
   "cell_type": "markdown",
   "id": "d6c57696-b29f-4d6d-87bd-bd7fd67f0081",
   "metadata": {},
   "source": [
    "# Part Ralitsa Dimitrova"
   ]
  },
  {
   "cell_type": "code",
   "execution_count": 17,
   "id": "d9a31f42-d769-4d43-8aea-a60759696554",
   "metadata": {},
   "outputs": [],
   "source": [
    "import utils\n",
    "import skseq\n",
    "import skseq.sequences.structured_perceptron as spc"
   ]
  },
  {
   "cell_type": "code",
   "execution_count": 18,
   "id": "07fbcde8-8e72-4150-b595-c93fad9aa198",
   "metadata": {},
   "outputs": [
    {
     "name": "stdout",
     "output_type": "stream",
     "text": [
      "The autoreload extension is already loaded. To reload it, use:\n",
      "  %reload_ext autoreload\n"
     ]
    }
   ],
   "source": [
    "%load_ext autoreload\n",
    "%autoreload 2"
   ]
  },
  {
   "cell_type": "code",
   "execution_count": 19,
   "id": "a181be1d-33fc-4505-a79b-94b7797ea5de",
   "metadata": {},
   "outputs": [],
   "source": [
    "from utils.structured_perceptrone_utils import NewPostagCorpus"
   ]
  },
  {
   "cell_type": "code",
   "execution_count": 20,
   "id": "bf620047-6833-4f36-9251-0b8786742f6d",
   "metadata": {},
   "outputs": [],
   "source": [
    "corpus = NewPostagCorpus()\n",
    "train_seq = corpus.read_sequence_list_csv(\"data/train_data_ner.csv\")\n",
    "\n",
    "# USe a new corpus so the train data one is not poluted, but the same IDs are used for the existing words in test and train\n",
    "corpus1 = NewPostagCorpus()\n",
    "corpus1.word_dict = corpus.word_dict\n",
    "corpus1.tag_dict = corpus.tag_dict\n",
    "test_seq = corpus1.read_sequence_list_csv(\"data/test_data_ner.csv\", update_dict=False)\n",
    "\n",
    "word_dict = train_seq.x_dict\n",
    "tag_dict  = train_seq.y_dict"
   ]
  },
  {
   "cell_type": "code",
   "execution_count": 309,
   "id": "4ebc7b5c-bdc3-41c3-8c15-3465a78eeb71",
   "metadata": {},
   "outputs": [
    {
     "data": {
      "text/plain": [
       "38364"
      ]
     },
     "execution_count": 309,
     "metadata": {},
     "output_type": "execute_result"
    }
   ],
   "source": [
    "len(train_seq)"
   ]
  },
  {
   "cell_type": "code",
   "execution_count": 310,
   "id": "fad781b5-8f3e-4064-8ee9-d0943cb69ec3",
   "metadata": {},
   "outputs": [
    {
     "data": {
      "text/plain": [
       "{'O': 0,\n",
       " 'B-geo': 1,\n",
       " 'B-gpe': 2,\n",
       " 'B-tim': 3,\n",
       " 'B-org': 4,\n",
       " 'I-geo': 5,\n",
       " 'B-per': 6,\n",
       " 'I-per': 7,\n",
       " 'I-org': 8,\n",
       " 'B-art': 9,\n",
       " 'I-art': 10,\n",
       " 'I-tim': 11,\n",
       " 'I-gpe': 12,\n",
       " 'B-nat': 13,\n",
       " 'I-nat': 14,\n",
       " 'B-eve': 15,\n",
       " 'I-eve': 16}"
      ]
     },
     "execution_count": 310,
     "metadata": {},
     "output_type": "execute_result"
    }
   ],
   "source": [
    "train_seq.y_dict"
   ]
  },
  {
   "cell_type": "code",
   "execution_count": 311,
   "id": "d61a6c3d-3281-4c16-bc58-39c89c1b6b30",
   "metadata": {},
   "outputs": [
    {
     "data": {
      "text/plain": [
       "31965"
      ]
     },
     "execution_count": 311,
     "metadata": {},
     "output_type": "execute_result"
    }
   ],
   "source": [
    "# vocabulary size\n",
    "len(train_seq.x_dict)"
   ]
  },
  {
   "cell_type": "code",
   "execution_count": 312,
   "id": "a86a99d8-c64f-4da3-93a3-c3cf1636e3f6",
   "metadata": {},
   "outputs": [
    {
     "data": {
      "text/plain": [
       "'Helicopter/O gunships/O Saturday/B-tim pounded/O militant/O hideouts/O in/O the/O Orakzai/B-geo tribal/O region/O ,/O where/O many/O Taliban/B-org militants/O are/O believed/O to/O have/O fled/O to/O avoid/O an/O earlier/O military/O offensive/O in/O nearby/O South/B-geo Waziristan/I-geo ./O '"
      ]
     },
     "execution_count": 312,
     "metadata": {},
     "output_type": "execute_result"
    }
   ],
   "source": [
    "sequence = train_seq[1]\n",
    "sequence.to_words(sequence_list=train_seq)"
   ]
  },
  {
   "cell_type": "markdown",
   "id": "f0003426-38df-4353-affd-ab82b7faa4b2",
   "metadata": {},
   "source": [
    "## 0. Build a NER perceptrone similar to the POS one, which works with loading .csv files (For baseline)"
   ]
  },
  {
   "cell_type": "code",
   "execution_count": 313,
   "id": "0feafdcb-1084-40e8-92b1-88cc2a428504",
   "metadata": {},
   "outputs": [],
   "source": [
    "feature_mapper = skseq.sequences.id_feature.IDFeatures(train_seq)"
   ]
  },
  {
   "cell_type": "code",
   "execution_count": 315,
   "id": "b4120673-5067-41b4-8eef-fc08d73d8542",
   "metadata": {},
   "outputs": [],
   "source": [
    "feature_mapper.build_features()"
   ]
  },
  {
   "cell_type": "code",
   "execution_count": 316,
   "id": "61e2f1ff-7f9c-4924-b762-41197552ae3f",
   "metadata": {},
   "outputs": [
    {
     "data": {
      "text/plain": [
       "39783"
      ]
     },
     "execution_count": 316,
     "metadata": {},
     "output_type": "execute_result"
    }
   ],
   "source": [
    "len(feature_mapper.feature_dict)"
   ]
  },
  {
   "cell_type": "code",
   "execution_count": 317,
   "id": "4e6d24b5-0695-489a-8fd2-6923a40431c7",
   "metadata": {},
   "outputs": [
    {
     "data": {
      "text/plain": [
       "38364"
      ]
     },
     "execution_count": 317,
     "metadata": {},
     "output_type": "execute_result"
    }
   ],
   "source": [
    "len(feature_mapper.feature_list)"
   ]
  },
  {
   "cell_type": "code",
   "execution_count": 319,
   "id": "34abfff4-1bf3-4bce-a843-9c9472242bbe",
   "metadata": {},
   "outputs": [
    {
     "data": {
      "text/plain": [
       "4"
      ]
     },
     "execution_count": 319,
     "metadata": {},
     "output_type": "execute_result"
    }
   ],
   "source": [
    "m = 1\n",
    "len(feature_mapper.feature_list[m])"
   ]
  },
  {
   "cell_type": "code",
   "execution_count": 320,
   "id": "d8c825ac-6114-497b-bda3-a7399e3e4d44",
   "metadata": {},
   "outputs": [
    {
     "data": {
      "text/plain": [
       "22/0 23/0 24/3 25/0 26/0 27/0 11/0 9/0 28/1 29/0 30/0 31/0 32/0 33/0 34/4 35/0 36/0 37/0 7/0 3/0 38/0 7/0 39/0 40/0 41/0 42/0 43/0 11/0 44/0 45/1 46/5 21/0 "
      ]
     },
     "execution_count": 320,
     "metadata": {},
     "output_type": "execute_result"
    }
   ],
   "source": [
    "id_seq = 1\n",
    "feature_mapper.dataset[id_seq]"
   ]
  },
  {
   "cell_type": "code",
   "execution_count": 321,
   "id": "423edc00-aa52-4941-820e-63a4eb5fa9dc",
   "metadata": {},
   "outputs": [
    {
     "data": {
      "text/plain": [
       "32"
      ]
     },
     "execution_count": 321,
     "metadata": {},
     "output_type": "execute_result"
    }
   ],
   "source": [
    "len(feature_mapper.dataset[id_seq])"
   ]
  },
  {
   "cell_type": "code",
   "execution_count": 322,
   "id": "d72555b3-1ad5-42cd-b3f3-1ebe06441b3f",
   "metadata": {},
   "outputs": [
    {
     "name": "stdout",
     "output_type": "stream",
     "text": [
      "Initial features: [[0]]\n",
      "Transition features: [[3], [32], [34], [3], [3], [3], [3], [9], [11], [3], [3], [3], [3], [44], [46], [3], [3], [3], [3], [3], [3], [3], [3], [3], [3], [3], [3], [3], [9], [58], [59]]\n",
      "Final features: [[28]]\n",
      "Emission features: [[29], [30], [31], [33], [35], [36], [15], [13], [37], [38], [39], [40], [41], [42], [43], [45], [47], [48], [10], [5], [49], [10], [50], [51], [52], [53], [54], [15], [55], [56], [57], [27]]\n"
     ]
    }
   ],
   "source": [
    "print (\"Initial features:\",     feature_mapper.feature_list[id_seq][0])\n",
    "print (\"Transition features:\",  feature_mapper.feature_list[id_seq][1])\n",
    "print (\"Final features:\",       feature_mapper.feature_list[id_seq][2])\n",
    "print (\"Emission features:\",    feature_mapper.feature_list[id_seq][3])"
   ]
  },
  {
   "cell_type": "code",
   "execution_count": 327,
   "id": "be0f29de-382b-49f4-a4d4-762d4584643d",
   "metadata": {},
   "outputs": [],
   "source": [
    "feature_type = [\"Initial features\", \"Transition features\", \"Final features\", \"Emission features\"]\n",
    "inv_feature_dict = {word: pos for pos, word in feature_mapper.feature_dict.items()}"
   ]
  },
  {
   "cell_type": "code",
   "execution_count": 325,
   "id": "5086bf25-e62c-44e9-aad0-4c7fc9d71ceb",
   "metadata": {},
   "outputs": [],
   "source": [
    "id_seq = 6\n",
    "seq = train_seq[id_seq]"
   ]
  },
  {
   "cell_type": "code",
   "execution_count": 361,
   "id": "24879560-17b5-4bc9-9c35-e3168d9703ba",
   "metadata": {},
   "outputs": [],
   "source": [
    "from utils.structured_perceptrone_utils import show_feats"
   ]
  },
  {
   "cell_type": "code",
   "execution_count": 326,
   "id": "4d204d97-66ab-4fa3-a59a-849fe6c15d1c",
   "metadata": {},
   "outputs": [
    {
     "name": "stdout",
     "output_type": "stream",
     "text": [
      "Initial features\n",
      "\t [0]\n",
      "\t\t init_tag:O\n",
      "\n",
      "\n",
      "Transition features\n",
      "\t [3]\n",
      "\t\t prev_tag:O::O\n",
      "\t [3]\n",
      "\t\t prev_tag:O::O\n",
      "\t [3]\n",
      "\t\t prev_tag:O::O\n",
      "\t [3]\n",
      "\t\t prev_tag:O::O\n",
      "\t [3]\n",
      "\t\t prev_tag:O::O\n",
      "\t [3]\n",
      "\t\t prev_tag:O::O\n",
      "\n",
      "\n",
      "Final features\n",
      "\t [28]\n",
      "\t\t final_prev_tag:O\n",
      "\n",
      "\n",
      "Emission features\n",
      "\t [132]\n",
      "\t\t id:Some::O\n",
      "\t [133]\n",
      "\t\t id:1,27,000::O\n",
      "\t [106]\n",
      "\t\t id:people::O\n",
      "\t [47]\n",
      "\t\t id:are::O\n",
      "\t [134]\n",
      "\t\t id:known::O\n",
      "\t [135]\n",
      "\t\t id:dead::O\n",
      "\t [27]\n",
      "\t\t id:.::O\n",
      "\n",
      "\n"
     ]
    }
   ],
   "source": [
    "show_feats(feature_mapper, seq, inv_feature_dict, feature_type)"
   ]
  },
  {
   "cell_type": "code",
   "execution_count": 328,
   "id": "effb772a-d395-4578-82ab-75adb5e755de",
   "metadata": {},
   "outputs": [],
   "source": [
    "sp = spc.StructuredPerceptron(corpus.word_dict, corpus.tag_dict, feature_mapper)\n",
    "sp.num_epochs = 5"
   ]
  },
  {
   "cell_type": "code",
   "execution_count": 329,
   "id": "bb82ee9f-9460-4828-81a8-7d00fc0f86d7",
   "metadata": {},
   "outputs": [
    {
     "data": {
      "text/plain": [
       "{'O': 0,\n",
       " 'B-geo': 1,\n",
       " 'B-gpe': 2,\n",
       " 'B-tim': 3,\n",
       " 'B-org': 4,\n",
       " 'I-geo': 5,\n",
       " 'B-per': 6,\n",
       " 'I-per': 7,\n",
       " 'I-org': 8,\n",
       " 'B-art': 9,\n",
       " 'I-art': 10,\n",
       " 'I-tim': 11,\n",
       " 'I-gpe': 12,\n",
       " 'B-nat': 13,\n",
       " 'I-nat': 14,\n",
       " 'B-eve': 15,\n",
       " 'I-eve': 16}"
      ]
     },
     "execution_count": 329,
     "metadata": {},
     "output_type": "execute_result"
    }
   ],
   "source": [
    "sp.state_labels"
   ]
  },
  {
   "cell_type": "code",
   "execution_count": 331,
   "id": "e46aac1d-c8c0-41ca-92fb-1c88d6129da3",
   "metadata": {},
   "outputs": [
    {
     "data": {
      "text/plain": [
       "39783"
      ]
     },
     "execution_count": 331,
     "metadata": {},
     "output_type": "execute_result"
    }
   ],
   "source": [
    "len(sp.parameters)"
   ]
  },
  {
   "cell_type": "code",
   "execution_count": 333,
   "id": "71186dc6-d42e-4270-8454-3f6682ce3771",
   "metadata": {},
   "outputs": [
    {
     "name": "stdout",
     "output_type": "stream",
     "text": [
      "Epoch: 0 Accuracy: 0.893909\n",
      "Epoch: 1 Accuracy: 0.931787\n",
      "Epoch: 2 Accuracy: 0.941169\n",
      "Epoch: 3 Accuracy: 0.946112\n",
      "Epoch: 4 Accuracy: 0.949991\n"
     ]
    }
   ],
   "source": [
    "sp.fit(feature_mapper.dataset, 5)"
   ]
  },
  {
   "cell_type": "code",
   "execution_count": 335,
   "id": "38565173-3e99-4dda-a111-f58b1295ec18",
   "metadata": {},
   "outputs": [
    {
     "data": {
      "text/plain": [
       "100124.2"
      ]
     },
     "execution_count": 335,
     "metadata": {},
     "output_type": "execute_result"
    }
   ],
   "source": [
    "sp.parameters.sum()"
   ]
  },
  {
   "cell_type": "code",
   "execution_count": 336,
   "id": "1e82c612-fbae-4a81-b5d9-30b3c067225a",
   "metadata": {},
   "outputs": [],
   "source": [
    "sp.save_model(\"fitted_models/perceptron_baseline_\")"
   ]
  },
  {
   "cell_type": "code",
   "execution_count": 337,
   "id": "ae73e167-a6f6-44de-8673-a0eee9db3eea",
   "metadata": {},
   "outputs": [],
   "source": [
    "pred_train = sp.viterbi_decode_corpus(train_seq)"
   ]
  },
  {
   "cell_type": "code",
   "execution_count": 348,
   "id": "b526ff12-c97b-47e1-9bd4-a6f7c806bd9e",
   "metadata": {},
   "outputs": [],
   "source": [
    "# IMPORTANT! Using the proposed way in lectures, so that there are no unnown words, althouh this is unlikely in \n",
    "# a real scenario: (For the imporvements of the perceptrone for NER I have put handling for unknown words)\n",
    "test_seq_nn = corpus.read_sequence_list_csv(\"data/test_data_ner.csv\", update_dict=True)\n",
    "\n",
    "pred_test = sp.viterbi_decode_corpus(test_seq_nn)"
   ]
  },
  {
   "cell_type": "code",
   "execution_count": 349,
   "id": "2342f9ab-6d5d-40c5-919b-52c2960bb9ad",
   "metadata": {},
   "outputs": [],
   "source": [
    "from utils.structured_perceptrone_utils import evaluate_corpus"
   ]
  },
  {
   "cell_type": "code",
   "execution_count": 350,
   "id": "ae3284f9-97c5-494a-8897-88afa4f28428",
   "metadata": {},
   "outputs": [
    {
     "name": "stdout",
     "output_type": "stream",
     "text": [
      "SP -  Accuracy Train: 0.962 Test: 0.876\n"
     ]
    }
   ],
   "source": [
    "eval_train = evaluate_corpus(train_seq.seq_list, pred_train)\n",
    "eval_test = evaluate_corpus(test_seq_nn.seq_list, pred_test)\n",
    "print(\"SP -  Accuracy Train: %.3f Test: %.3f\"%(eval_train, eval_test))"
   ]
  },
  {
   "cell_type": "markdown",
   "id": "70a7a40f-83c6-40bf-ab31-fed7ca6863ff",
   "metadata": {},
   "source": [
    "## 1. Train a structured perceptrone with custom features"
   ]
  },
  {
   "cell_type": "code",
   "execution_count": 362,
   "id": "abe96f70-7e01-43c8-b2d8-58960abb8112",
   "metadata": {},
   "outputs": [],
   "source": [
    "from utils.structured_perceptrone_utils import NERFeatures"
   ]
  },
  {
   "cell_type": "code",
   "execution_count": 288,
   "id": "c41190c3-40b7-482f-abb4-84c982ad8a16",
   "metadata": {},
   "outputs": [],
   "source": [
    "feature_mapper_ner = NERFeatures(train_seq)\n",
    "feature_mapper_ner.build_features()"
   ]
  },
  {
   "cell_type": "code",
   "execution_count": 289,
   "id": "53641012-6295-4603-8dd4-b1694c7a0c7f",
   "metadata": {},
   "outputs": [],
   "source": [
    "# new strucutured perceptrone:\n",
    "sp_1 = spc.StructuredPerceptron(word_dict, tag_dict, feature_mapper_ner)\n",
    "sp_1.num_epochs = 5"
   ]
  },
  {
   "cell_type": "code",
   "execution_count": 291,
   "id": "e39a994c-4e9d-47a2-a59e-1ce9282ec1e9",
   "metadata": {},
   "outputs": [
    {
     "data": {
      "text/plain": [
       "139360"
      ]
     },
     "execution_count": 291,
     "metadata": {},
     "output_type": "execute_result"
    }
   ],
   "source": [
    "len(feature_mapper_ner.feature_dict) # more than the baseline!"
   ]
  },
  {
   "cell_type": "code",
   "execution_count": 293,
   "id": "62704166-55f9-49ef-b257-a8a462798615",
   "metadata": {},
   "outputs": [
    {
     "name": "stdout",
     "output_type": "stream",
     "text": [
      "Epoch: 0 Accuracy: 0.944704\n",
      "Epoch: 1 Accuracy: 0.954096\n",
      "Epoch: 2 Accuracy: 0.957750\n",
      "Epoch: 3 Accuracy: 0.959741\n",
      "Epoch: 4 Accuracy: 0.960863\n"
     ]
    }
   ],
   "source": [
    "# train the new perceptrone:\n",
    "sp_1.fit(feature_mapper_ner.dataset, 5)"
   ]
  },
  {
   "cell_type": "code",
   "execution_count": 294,
   "id": "9bd4442b-3217-42cf-af96-ddb4e0344f03",
   "metadata": {},
   "outputs": [],
   "source": [
    "sp_1.save_model(\"fitted_models/perceptron_1_\")"
   ]
  },
  {
   "cell_type": "code",
   "execution_count": 295,
   "id": "f0c77cb4-1f9d-42f9-b81a-b9522df976c8",
   "metadata": {},
   "outputs": [
    {
     "data": {
      "text/plain": [
       "103343.40000000001"
      ]
     },
     "execution_count": 295,
     "metadata": {},
     "output_type": "execute_result"
    }
   ],
   "source": [
    "sp_1.parameters.sum()"
   ]
  },
  {
   "cell_type": "code",
   "execution_count": 296,
   "id": "5dcfcebe-0ece-49d3-b79b-3de9b9d9f9be",
   "metadata": {},
   "outputs": [],
   "source": [
    "pred_train_1 = sp_1.viterbi_decode_corpus(train_seq)"
   ]
  },
  {
   "cell_type": "code",
   "execution_count": 297,
   "id": "c2f09869-d06e-4b60-84b4-893af78342ac",
   "metadata": {},
   "outputs": [
    {
     "name": "stdout",
     "output_type": "stream",
     "text": [
      "139360\n"
     ]
    }
   ],
   "source": [
    "index_to_feature = {v: k for k, v in feature_mapper_ner.feature_dict.items()}\n",
    "print(len(index_to_feature))\n",
    "for seq in test_seq.seq_list:\n",
    "    for idx in seq.x:\n",
    "        if idx not in index_to_feature:\n",
    "            print(\"Unknown feature index:\", idx)"
   ]
  },
  {
   "cell_type": "code",
   "execution_count": 298,
   "id": "2221044d-993d-46a1-9ad2-d8d0a072b63a",
   "metadata": {},
   "outputs": [
    {
     "name": "stdout",
     "output_type": "stream",
     "text": [
      "Empty feature sequence at index 13539\n",
      "Empty feature sequence at index 29617\n",
      "Empty feature sequence at index 29859\n"
     ]
    }
   ],
   "source": [
    "for i, seq in enumerate(test_seq.seq_list):\n",
    "    if len(seq.x) == 0:\n",
    "        print(f\"Empty feature sequence at index {i}\")"
   ]
  },
  {
   "cell_type": "code",
   "execution_count": 300,
   "id": "7e3c5fd7-69db-4f7b-8bcb-770aa53d5719",
   "metadata": {},
   "outputs": [
    {
     "name": "stdout",
     "output_type": "stream",
     "text": [
      "\n"
     ]
    }
   ],
   "source": [
    "print(test_seq.seq_list[13539])"
   ]
  },
  {
   "cell_type": "code",
   "execution_count": 304,
   "id": "77e80212-740d-488b-846d-87f4afae9d98",
   "metadata": {},
   "outputs": [],
   "source": [
    "fixed_test_seq_list = []\n",
    "\n",
    "for seq in test_seq.seq_list:\n",
    "    if len(seq.x) == 0:\n",
    "        # Replace empty input with one UNK word and dummy label\n",
    "        dummy_x = [\"<UNK>\"]\n",
    "        dummy_y = [0]  # Arbitrary, won't be used in viterbi\n",
    "        new_seq = Sequence(x=dummy_x, y=dummy_y)\n",
    "        fixed_test_seq_list.append(new_seq)\n",
    "    else:\n",
    "        fixed_test_seq_list.append(seq)\n",
    "\n",
    "from skseq.sequences.sequence_list import SequenceList  \n",
    "\n",
    "fixed_test_dataset = SequenceList(x_dict=test_seq.x_dict, y_dict=test_seq.y_dict)\n",
    "fixed_test_dataset.seq_list = fixed_test_seq_list"
   ]
  },
  {
   "cell_type": "code",
   "execution_count": 305,
   "id": "19cf7c1b-53fe-4b73-b5e4-c7a1ba88a396",
   "metadata": {},
   "outputs": [],
   "source": [
    "pred_test_1 = sp_1.viterbi_decode_corpus(fixed_test_dataset)"
   ]
  },
  {
   "cell_type": "code",
   "execution_count": 307,
   "id": "d12c3812-ca0e-49e6-8ded-44c3ba8bf22f",
   "metadata": {},
   "outputs": [
    {
     "name": "stdout",
     "output_type": "stream",
     "text": [
      "SP -  Accuracy Train: 0.962 Test: 0.978\n"
     ]
    }
   ],
   "source": [
    "eval_train_1 = evaluate_corpus(train_seq.seq_list, pred_train_1)\n",
    "eval_test_1 = evaluate_corpus(fixed_test_dataset.seq_list, pred_test_1)\n",
    "print(\"SP -  Accuracy Train: %.3f Test: %.3f\"%(eval_train_1, eval_test_1))"
   ]
  },
  {
   "cell_type": "markdown",
   "id": "5ff4cd2a-041d-4ab2-b3b0-283a51a47053",
   "metadata": {},
   "source": [
    "## 2. Second test with NER handcrafter fetures:"
   ]
  },
  {
   "cell_type": "code",
   "execution_count": 363,
   "id": "96804489-d5e9-46a3-b3c5-95bd0f8fcef6",
   "metadata": {},
   "outputs": [],
   "source": [
    "from utils.structured_perceptrone_utils import NERFeatures_2"
   ]
  },
  {
   "cell_type": "code",
   "execution_count": 354,
   "id": "cc76d7cd-1024-4694-89a1-44fd081acaa4",
   "metadata": {},
   "outputs": [],
   "source": [
    "feature_mapper_ner_2 = NERFeatures_2(train_seq)\n",
    "feature_mapper_ner_2.build_features()"
   ]
  },
  {
   "cell_type": "code",
   "execution_count": 355,
   "id": "454dc529-11a3-4e0a-9e0e-9bd6fd48f175",
   "metadata": {},
   "outputs": [
    {
     "data": {
      "text/plain": [
       "223395"
      ]
     },
     "execution_count": 355,
     "metadata": {},
     "output_type": "execute_result"
    }
   ],
   "source": [
    "len(feature_mapper_ner_2.feature_dict) #looots"
   ]
  },
  {
   "cell_type": "code",
   "execution_count": 356,
   "id": "95e6eff8-d3a7-4cb0-a282-04f99e6c47a4",
   "metadata": {},
   "outputs": [],
   "source": [
    "sp_2 = spc.StructuredPerceptron(word_dict, tag_dict, feature_mapper_ner_2)\n",
    "sp_2.num_epochs = 5"
   ]
  },
  {
   "cell_type": "code",
   "execution_count": 357,
   "id": "48b6d729-5e71-4465-b418-2c8e45cf85cf",
   "metadata": {},
   "outputs": [
    {
     "data": {
      "text/plain": [
       "223395"
      ]
     },
     "execution_count": 357,
     "metadata": {},
     "output_type": "execute_result"
    }
   ],
   "source": [
    "len(sp_2.parameters)"
   ]
  },
  {
   "cell_type": "code",
   "execution_count": 358,
   "id": "eb85cbd3-7afe-421e-8537-da4ab0450ff7",
   "metadata": {},
   "outputs": [
    {
     "name": "stdout",
     "output_type": "stream",
     "text": [
      "Epoch: 0 Accuracy: 0.947189\n",
      "Epoch: 1 Accuracy: 0.955523\n",
      "Epoch: 2 Accuracy: 0.958542\n",
      "Epoch: 3 Accuracy: 0.959905\n",
      "Epoch: 4 Accuracy: 0.961356\n"
     ]
    }
   ],
   "source": [
    "sp_2.fit(feature_mapper_ner_2.dataset, 5)"
   ]
  },
  {
   "cell_type": "code",
   "execution_count": 359,
   "id": "b603545e-568d-4b6c-b8b5-b68089e047ec",
   "metadata": {},
   "outputs": [],
   "source": [
    "sp_2.save_model(\"fitted_models/perceptron_2_\")"
   ]
  },
  {
   "cell_type": "markdown",
   "id": "497cdc76-15f3-41dc-9c84-7cb1b893b245",
   "metadata": {},
   "source": [
    "## 3. Test 3 for handcrafted features for NER"
   ]
  },
  {
   "cell_type": "code",
   "execution_count": 376,
   "id": "e550438e-a557-4ef5-8f66-b70c52aa21a5",
   "metadata": {},
   "outputs": [],
   "source": [
    "from utils.structured_perceptrone_utils import NERFeatures_3"
   ]
  },
  {
   "cell_type": "code",
   "execution_count": 369,
   "id": "1a72eafe-6c50-4d1a-b04a-c4669cb263e1",
   "metadata": {},
   "outputs": [],
   "source": [
    "feature_mapper_ner_3 = NERFeatures_3(train_seq)\n",
    "feature_mapper_ner_3.build_features()"
   ]
  },
  {
   "cell_type": "code",
   "execution_count": 370,
   "id": "1070675c-171a-4662-8a21-45a6cd36a592",
   "metadata": {},
   "outputs": [
    {
     "data": {
      "text/plain": [
       "114412"
      ]
     },
     "execution_count": 370,
     "metadata": {},
     "output_type": "execute_result"
    }
   ],
   "source": [
    "len(feature_mapper_ner_3.feature_dict) # less than previous approach"
   ]
  },
  {
   "cell_type": "code",
   "execution_count": 371,
   "id": "cc2903ae-ee47-48c0-b2ec-9da98720f82b",
   "metadata": {},
   "outputs": [],
   "source": [
    "sp_3 = spc.StructuredPerceptron(word_dict, tag_dict, feature_mapper_ner_3)\n",
    "sp_3.num_epochs = 5"
   ]
  },
  {
   "cell_type": "code",
   "execution_count": 373,
   "id": "1a0d3e37-b9e0-425e-93e5-c5b26e57788e",
   "metadata": {},
   "outputs": [
    {
     "name": "stdout",
     "output_type": "stream",
     "text": [
      "Epoch: 0 Accuracy: 0.943159\n",
      "Epoch: 1 Accuracy: 0.953967\n",
      "Epoch: 2 Accuracy: 0.957306\n",
      "Epoch: 3 Accuracy: 0.959520\n",
      "Epoch: 4 Accuracy: 0.961097\n"
     ]
    }
   ],
   "source": [
    "sp_3.fit(feature_mapper_ner_3.dataset, 5)"
   ]
  },
  {
   "cell_type": "code",
   "execution_count": 374,
   "id": "ec9745e1-6198-44b8-884c-b32f271a037e",
   "metadata": {},
   "outputs": [],
   "source": [
    "sp_3.save_model(\"fitted_models/perceptron_3_\")"
   ]
  },
  {
   "cell_type": "markdown",
   "id": "402053ee-c0a2-4197-80c3-c4fa9a1b51f3",
   "metadata": {},
   "source": [
    "## 4. Test 4 for handcrafted features for NER"
   ]
  },
  {
   "cell_type": "code",
   "execution_count": 25,
   "id": "a035ff5b-faf2-4b5c-b75c-2218682777b1",
   "metadata": {},
   "outputs": [],
   "source": [
    "from utils.structured_perceptrone_utils import NERFeatures_4"
   ]
  },
  {
   "cell_type": "code",
   "execution_count": 26,
   "id": "98d8afe4-9159-4c36-98cc-e62f1b39ae7e",
   "metadata": {},
   "outputs": [],
   "source": [
    "feature_mapper_ner_4 = NERFeatures_4(train_seq)\n",
    "feature_mapper_ner_4.build_features()"
   ]
  },
  {
   "cell_type": "code",
   "execution_count": 27,
   "id": "a9714f5e-6d7d-40d5-841e-da5c07ccf2e7",
   "metadata": {},
   "outputs": [
    {
     "data": {
      "text/plain": [
       "139416"
      ]
     },
     "execution_count": 27,
     "metadata": {},
     "output_type": "execute_result"
    }
   ],
   "source": [
    "len(feature_mapper_ner_4.feature_dict) # less than previous approach"
   ]
  },
  {
   "cell_type": "code",
   "execution_count": 29,
   "id": "7a6a903c-9eee-43c0-b6cd-586c6fbc29bb",
   "metadata": {},
   "outputs": [],
   "source": [
    "sp_4 = spc.StructuredPerceptron(word_dict, tag_dict, feature_mapper_ner_4)\n",
    "sp_4.num_epochs = 5"
   ]
  },
  {
   "cell_type": "code",
   "execution_count": 30,
   "id": "58196fc9-0e43-4719-aa12-06869deb5c1e",
   "metadata": {},
   "outputs": [
    {
     "name": "stdout",
     "output_type": "stream",
     "text": [
      "Epoch: 0 Accuracy: 0.944617\n",
      "Epoch: 1 Accuracy: 0.954481\n",
      "Epoch: 2 Accuracy: 0.957610\n",
      "Epoch: 3 Accuracy: 0.959663\n",
      "Epoch: 4 Accuracy: 0.961082\n"
     ]
    }
   ],
   "source": [
    "sp_4.fit(feature_mapper_ner_4.dataset, 5)"
   ]
  },
  {
   "cell_type": "code",
   "execution_count": 31,
   "id": "0a752980-e55a-4d2c-88a6-eda01db9ee87",
   "metadata": {},
   "outputs": [],
   "source": [
    "sp_4.save_model(\"fitted_models/perceptron_4_\")"
   ]
  },
  {
   "cell_type": "markdown",
   "id": "0e85f1b0-6f99-45d7-9717-6732cc7c6059",
   "metadata": {},
   "source": [
    "## 5. Test 5 for handcrafted features for NER"
   ]
  },
  {
   "cell_type": "code",
   "execution_count": 32,
   "id": "7a7fffce-adb0-474d-a70f-8104d56f4a48",
   "metadata": {},
   "outputs": [],
   "source": [
    "from utils.structured_perceptrone_utils import NERFeatures_5"
   ]
  },
  {
   "cell_type": "code",
   "execution_count": 33,
   "id": "55a5697f-bac9-483e-a522-11d3db60cab5",
   "metadata": {},
   "outputs": [],
   "source": [
    "feature_mapper_ner_5 = NERFeatures_5(train_seq)\n",
    "feature_mapper_ner_5.build_features()"
   ]
  },
  {
   "cell_type": "code",
   "execution_count": 34,
   "id": "fc6d77df-f393-4c9d-99f8-2be738071f44",
   "metadata": {
    "jupyter": {
     "source_hidden": true
    }
   },
   "outputs": [
    {
     "data": {
      "text/plain": [
       "139388"
      ]
     },
     "execution_count": 34,
     "metadata": {},
     "output_type": "execute_result"
    }
   ],
   "source": [
    "len(feature_mapper_ner_5.feature_dict) # less than previous approach"
   ]
  },
  {
   "cell_type": "code",
   "execution_count": 35,
   "id": "bac3d2ce-f067-4653-9c99-39997c143d46",
   "metadata": {},
   "outputs": [],
   "source": [
    "sp_5 = spc.StructuredPerceptron(word_dict, tag_dict, feature_mapper_ner_5)\n",
    "sp_5.num_epochs = 5"
   ]
  },
  {
   "cell_type": "code",
   "execution_count": 36,
   "id": "21311f4a-290d-4084-a6ef-e9fd71931b3e",
   "metadata": {},
   "outputs": [
    {
     "name": "stdout",
     "output_type": "stream",
     "text": [
      "Epoch: 0 Accuracy: 0.944945\n",
      "Epoch: 1 Accuracy: 0.954311\n",
      "Epoch: 2 Accuracy: 0.957469\n",
      "Epoch: 3 Accuracy: 0.959819\n",
      "Epoch: 4 Accuracy: 0.961035\n"
     ]
    }
   ],
   "source": [
    "sp_5.fit(feature_mapper_ner_5.dataset, 5)"
   ]
  },
  {
   "cell_type": "code",
   "execution_count": 37,
   "id": "aa9c63e2-1d40-4c8a-9e55-d4eb806143f4",
   "metadata": {},
   "outputs": [],
   "source": [
    "sp_5.save_model(\"fitted_models/perceptron_5_\")"
   ]
  },
  {
   "cell_type": "markdown",
   "id": "de7c6b7b-d9b5-4b39-a56d-61449156d6b5",
   "metadata": {},
   "source": [
    "## 6. Test 6 for handcrafted features for NER"
   ]
  },
  {
   "cell_type": "code",
   "execution_count": 43,
   "id": "e809322a-d76f-4f5b-b9ad-39ec00e50517",
   "metadata": {},
   "outputs": [],
   "source": [
    "from utils.structured_perceptrone_utils import NERFeatures_6"
   ]
  },
  {
   "cell_type": "code",
   "execution_count": 44,
   "id": "abaf5e04-6c03-4a8a-8466-1974b691317a",
   "metadata": {},
   "outputs": [],
   "source": [
    "feature_mapper_ner_6 = NERFeatures_6(train_seq)\n",
    "feature_mapper_ner_6.build_features()"
   ]
  },
  {
   "cell_type": "code",
   "execution_count": 45,
   "id": "5fac902e-c7b7-4616-8083-dc78394806f9",
   "metadata": {},
   "outputs": [
    {
     "data": {
      "text/plain": [
       "139419"
      ]
     },
     "execution_count": 45,
     "metadata": {},
     "output_type": "execute_result"
    }
   ],
   "source": [
    "len(feature_mapper_ner_6.feature_dict) # less than previous approach"
   ]
  },
  {
   "cell_type": "code",
   "execution_count": 46,
   "id": "3337d957-2006-43b4-bcb4-7a9ea9913e97",
   "metadata": {},
   "outputs": [],
   "source": [
    "sp_6 = spc.StructuredPerceptron(word_dict, tag_dict, feature_mapper_ner_6)\n",
    "sp_6.num_epochs = 5"
   ]
  },
  {
   "cell_type": "code",
   "execution_count": 47,
   "id": "dfd10a89-775e-4bf9-b1c2-3304c26b04c7",
   "metadata": {},
   "outputs": [
    {
     "name": "stdout",
     "output_type": "stream",
     "text": [
      "Epoch: 0 Accuracy: 0.944688\n",
      "Epoch: 1 Accuracy: 0.954412\n",
      "Epoch: 2 Accuracy: 0.957566\n",
      "Epoch: 3 Accuracy: 0.959478\n",
      "Epoch: 4 Accuracy: 0.961124\n"
     ]
    }
   ],
   "source": [
    "sp_6.fit(feature_mapper_ner_6.dataset, 5)"
   ]
  },
  {
   "cell_type": "code",
   "execution_count": 48,
   "id": "5a8b6d64-eb36-4191-800c-9f5eebf2d26a",
   "metadata": {},
   "outputs": [],
   "source": [
    "sp_6.save_model(\"fitted_models/perceptron_6_\")"
   ]
  },
  {
   "cell_type": "code",
   "execution_count": null,
   "id": "9bba1c82-1303-4aa8-b3a2-be40da6efca0",
   "metadata": {},
   "outputs": [],
   "source": []
  }
 ],
 "metadata": {
  "kernelspec": {
   "display_name": "Python 3 (ipykernel)",
   "language": "python",
   "name": "python3"
  },
  "language_info": {
   "codemirror_mode": {
    "name": "ipython",
    "version": 3
   },
   "file_extension": ".py",
   "mimetype": "text/x-python",
   "name": "python",
   "nbconvert_exporter": "python",
   "pygments_lexer": "ipython3",
   "version": "3.12.9"
  }
 },
 "nbformat": 4,
 "nbformat_minor": 5
}
