{
 "cells": [
  {
   "cell_type": "markdown",
   "id": "146d6d2a-a83b-4a93-b6da-5bc7d5f16392",
   "metadata": {},
   "source": [
    "# Contents and requrements in this notebook"
   ]
  },
  {
   "cell_type": "raw",
   "id": "8b7c2566-9c79-4f20-9c1f-932b8d7c41ee",
   "metadata": {},
   "source": [
    "reproduce results.ipynb is a notebook that must: load the data, load the fitted mod-\n",
    "els from disk and evaluate the models, following the rules for the deliverable described\n",
    "in this document.\n",
    "Any model used in reproduce results.ipynb should be imported from fitted models.\n",
    "\n",
    "HERE INCLUDE:\n",
    "– Accuracy on the train set and test set but taking into account only those predic-\n",
    "tions where the ground truth is not “O”.\n",
    "– Confusion matrix on the train and test set.\n",
    "– F-score (weighted version, see https://scikit-learn.org/stable/modules/\n",
    "generated/sklearn.metrics.f1_score.html)\n",
    "– The predictions for the TINY TEST (look below) and the accuracy in such\n",
    "dataset."
   ]
  },
  {
   "cell_type": "raw",
   "id": "82cc0d45-deec-4412-bea3-fa9ad1fd30ba",
   "metadata": {},
   "source": [
    "The data used for this project is train data ner.csv, test data ner.csv containing\n",
    "training data and test data respectively.\n",
    "\n",
    "Since the project may be too heavy, it should be sent by email to daniel.ortiz@ub.\n",
    "edu by a single member of each group. In the email, you may provide a link to dropbox\n",
    "or similar.\n",
    "\n",
    "The zip file does not need to include the training data (but you can include it if you\n",
    "want)."
   ]
  },
  {
   "cell_type": "raw",
   "id": "b8855180-8bfb-49b7-a5ee-6f3949e16730",
   "metadata": {},
   "source": [
    "Notebook reproduce results.ipynb should print the predicted tags for the following TINY TEST\n",
    "in the format\n",
    "w1/t1 w2/t2 w3/t3 w4/t4\n",
    "where wi is a word and ti the tag associated to wi"
   ]
  },
  {
   "cell_type": "code",
   "execution_count": 3,
   "id": "46f785d6-3460-4b9b-aaee-98ab0b09b4f9",
   "metadata": {},
   "outputs": [
    {
     "name": "stdout",
     "output_type": "stream",
     "text": [
      "    sentence_id        words   tags\n",
      "0             0          The      O\n",
      "1             0  programmers      O\n",
      "2             0         from      O\n",
      "3             0    Barcelona  B-geo\n",
      "4             0        might      O\n",
      "5             0        write      O\n",
      "6             0            a      O\n",
      "7             0     sentence      O\n",
      "8             0      without      O\n",
      "9             0            a      O\n",
      "10            0        spell      O\n",
      "11            0      checker      O\n",
      "12            0            .      O\n",
      "13            1          The      O\n",
      "14            1  programmers      O\n",
      "15            1         from      O\n",
      "16            1   Barchelona  B-geo\n",
      "17            1       cannot      O\n",
      "18            1        write      O\n",
      "19            1            a      O\n",
      "20            1     sentence      O\n",
      "21            1      without      O\n",
      "22            1            a      O\n",
      "23            1        spell      O\n",
      "24            1      checker      O\n",
      "25            1            .      O\n",
      "26            2         Jack  B-per\n",
      "27            2       London  I-per\n",
      "28            2         went      O\n",
      "29            2           to      O\n",
      "30            2       Parris  B-geo\n",
      "31            2            .      O\n",
      "32            3         Jack  B-per\n",
      "33            3       London  I-per\n",
      "34            3         went      O\n",
      "35            3           to      O\n",
      "36            3        Paris  B-geo\n",
      "37            3            .      O\n"
     ]
    }
   ],
   "source": [
    "import pandas as pd\n",
    "\n",
    "tinytest_df=pd.read_csv('data/tiny_test.csv')\n",
    "print(tinytest_df.head(38))"
   ]
  },
  {
   "cell_type": "markdown",
   "id": "e6723e6e-ab2f-46fc-9bc4-042508a89386",
   "metadata": {},
   "source": [
    "# Part Alana Zoloeva"
   ]
  },
  {
   "cell_type": "code",
   "execution_count": null,
   "id": "c26e12d2-a5b8-42e1-b3a9-c561683299ed",
   "metadata": {},
   "outputs": [],
   "source": []
  },
  {
   "cell_type": "markdown",
   "id": "11b2c836-784c-4ae1-80c2-cb94d29be7e0",
   "metadata": {},
   "source": [
    "# Part Ralitsa Dimitrova"
   ]
  },
  {
   "cell_type": "code",
   "execution_count": null,
   "id": "b5467cb1-9e36-460c-9bfa-56915cc6f31f",
   "metadata": {},
   "outputs": [],
   "source": []
  }
 ],
 "metadata": {
  "kernelspec": {
   "display_name": "Python 3 (ipykernel)",
   "language": "python",
   "name": "python3"
  },
  "language_info": {
   "codemirror_mode": {
    "name": "ipython",
    "version": 3
   },
   "file_extension": ".py",
   "mimetype": "text/x-python",
   "name": "python",
   "nbconvert_exporter": "python",
   "pygments_lexer": "ipython3",
   "version": "3.12.9"
  }
 },
 "nbformat": 4,
 "nbformat_minor": 5
}
