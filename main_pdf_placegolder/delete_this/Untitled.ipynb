{
 "cells": [
  {
   "cell_type": "code",
   "execution_count": null,
   "id": "01bec6fa-05b6-4d1f-bc81-9128e1789211",
   "metadata": {},
   "outputs": [],
   "source": [
    "delete"
   ]
  }
 ],
 "metadata": {
  "kernelspec": {
   "display_name": "Bayesian Inference",
   "language": "python",
   "name": "clean_environment"
  },
  "language_info": {
   "codemirror_mode": {
    "name": "ipython",
    "version": 3
   },
   "file_extension": ".py",
   "mimetype": "text/x-python",
   "name": "python",
   "nbconvert_exporter": "python",
   "pygments_lexer": "ipython3",
   "version": "3.12.2"
  }
 },
 "nbformat": 4,
 "nbformat_minor": 5
}
